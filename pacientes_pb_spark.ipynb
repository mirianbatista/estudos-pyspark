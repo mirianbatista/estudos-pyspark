{
  "nbformat": 4,
  "nbformat_minor": 0,
  "metadata": {
    "colab": {
      "name": "pacientes_pb_spark.ipynb",
      "provenance": [],
      "collapsed_sections": [],
      "mount_file_id": "1Vrhz8x49GwaE4Fi81HD1gVtcRZvZOnI-",
      "authorship_tag": "ABX9TyM5VzmonH4V7B8XLRJHT9eA",
      "include_colab_link": true
    },
    "kernelspec": {
      "name": "python3",
      "display_name": "Python 3"
    },
    "language_info": {
      "name": "python"
    }
  },
  "cells": [
    {
      "cell_type": "markdown",
      "metadata": {
        "id": "view-in-github",
        "colab_type": "text"
      },
      "source": [
        "<a href=\"https://colab.research.google.com/github/mirianbatista/estudos-pyspark/blob/main/pacientes_pb_spark.ipynb\" target=\"_parent\"><img src=\"https://colab.research.google.com/assets/colab-badge.svg\" alt=\"Open In Colab\"/></a>"
      ]
    },
    {
      "cell_type": "code",
      "source": [
        "!apt-get install openjdk-8-jdk-headless -qq > /dev/null\n",
        "!wget -q https://archive.apache.org/dist/spark/spark-2.4.4/spark-2.4.4-bin-hadoop2.7.tgz\n",
        "!tar xf spark-2.4.4-bin-hadoop2.7.tgz\n",
        "!pip install -q findspark"
      ],
      "metadata": {
        "id": "RlddVmo2buVX"
      },
      "execution_count": null,
      "outputs": []
    },
    {
      "cell_type": "code",
      "source": [
        "import os\n",
        "os.environ[\"JAVA_HOME\"] = \"/usr/lib/jvm/java-8-openjdk-amd64\"\n",
        "os.environ[\"SPARK_HOME\"] = \"/content/spark-2.4.4-bin-hadoop2.7\"\n",
        "\n",
        "import findspark\n",
        "findspark.init('spark-2.4.4-bin-hadoop2.7')"
      ],
      "metadata": {
        "id": "SyVHisEObuYT"
      },
      "execution_count": null,
      "outputs": []
    },
    {
      "cell_type": "code",
      "source": [
        "from pyspark.sql import SparkSession\n",
        "from pyspark.sql.functions import *"
      ],
      "metadata": {
        "id": "EsUU1lqWm-Pp"
      },
      "execution_count": null,
      "outputs": []
    },
    {
      "cell_type": "code",
      "source": [
        "sc = SparkSession.builder.appName('Pacientes PB').getOrCreate()\n",
        "\n",
        "!wget --quiet --show-progress /content/drive/MyDrive/Colab Notebooks/procedimentos.csv\n",
        "\n",
        "df_spark = sc.read.csv(\"/content/drive/MyDrive/Colab Notebooks/procedimentos.csv\", inferSchema=True, header=True)\n",
        "\n",
        "df_spark.printSchema()"
      ],
      "metadata": {
        "colab": {
          "base_uri": "https://localhost:8080/"
        },
        "id": "CIW_X9ThbukW",
        "outputId": "c9624f75-2897-4c3f-9570-dc80297d01d8"
      },
      "execution_count": 8,
      "outputs": [
        {
          "output_type": "stream",
          "name": "stdout",
          "text": [
            "root\n",
            " |-- COD_MUNICIPIO: integer (nullable = true)\n",
            " |-- NO_MUNICIPIO: string (nullable = true)\n",
            " |-- COD_MUNICIPIO_RES: integer (nullable = true)\n",
            " |-- NO_MUNICIPIO_RES: string (nullable = true)\n",
            " |-- CNES: integer (nullable = true)\n",
            " |-- ESTABELECIMENTO: string (nullable = true)\n",
            " |-- COD_PROCEDIMENTO: integer (nullable = true)\n",
            " |-- NO_PROCEDIMENTO: string (nullable = true)\n",
            " |-- SEXO: string (nullable = true)\n",
            " |-- COD_RACA: integer (nullable = true)\n",
            " |-- RACACOR: string (nullable = true)\n",
            " |-- IDADE: integer (nullable = true)\n",
            " |-- Quantidade: double (nullable = true)\n",
            " |-- Valor: double (nullable = true)\n",
            " |-- ANO_MES: integer (nullable = true)\n",
            "\n"
          ]
        }
      ]
    },
    {
      "cell_type": "code",
      "source": [
        "df_spark.show(5)"
      ],
      "metadata": {
        "colab": {
          "base_uri": "https://localhost:8080/"
        },
        "id": "6CLz6PwLcb1n",
        "outputId": "3b2a8763-4492-4693-9f95-8d536b09282d"
      },
      "execution_count": 11,
      "outputs": [
        {
          "output_type": "stream",
          "name": "stdout",
          "text": [
            "+-------------+------------+-----------------+----------------+-------+--------------------+----------------+--------------------+----+--------+-------+-----+----------+-----+-------+\n",
            "|COD_MUNICIPIO|NO_MUNICIPIO|COD_MUNICIPIO_RES|NO_MUNICIPIO_RES|   CNES|     ESTABELECIMENTO|COD_PROCEDIMENTO|     NO_PROCEDIMENTO|SEXO|COD_RACA|RACACOR|IDADE|Quantidade|Valor|ANO_MES|\n",
            "+-------------+------------+-----------------+----------------+-------+--------------------+----------------+--------------------+----+--------+-------+-----+----------+-----+-------+\n",
            "|       250010| AGUA BRANCA|           240890|        PARELHAS|2321777|UNIDADE DE SAUDE ...|       301010110|  CONSULTA PRE-NATAL|   F|       2|  PRETA|   29|       1.0|  0.0| 201709|\n",
            "|       250010| AGUA BRANCA|           250010|     AGUA BRANCA|2321742|UNIDADE DE SAUDE ...|       301010030|CONSULTA DE PROFI...|   F|       1| BRANCA|    3|       1.0|  0.0| 201709|\n",
            "|       250010| AGUA BRANCA|           250010|     AGUA BRANCA|2321742|UNIDADE DE SAUDE ...|       301010030|CONSULTA DE PROFI...|   F|       1| BRANCA|   15|       1.0|  0.0| 201704|\n",
            "|       250010| AGUA BRANCA|           250010|     AGUA BRANCA|2321742|UNIDADE DE SAUDE ...|       301010030|CONSULTA DE PROFI...|   F|       1| BRANCA|   15|       1.0|  0.0| 201708|\n",
            "|       250010| AGUA BRANCA|           250010|     AGUA BRANCA|2321742|UNIDADE DE SAUDE ...|       301010030|CONSULTA DE PROFI...|   F|       1| BRANCA|   16|       1.0|  0.0| 201704|\n",
            "+-------------+------------+-----------------+----------------+-------+--------------------+----------------+--------------------+----+--------+-------+-----+----------+-----+-------+\n",
            "only showing top 5 rows\n",
            "\n"
          ]
        }
      ]
    },
    {
      "cell_type": "code",
      "source": [
        "df_spark.filter(df_spark[\"IDADE\"] < 15).show(3) "
      ],
      "metadata": {
        "colab": {
          "base_uri": "https://localhost:8080/"
        },
        "id": "e6fNGi8did9W",
        "outputId": "e693ee85-af1b-4e83-9350-4d9eb9c9caa5"
      },
      "execution_count": 33,
      "outputs": [
        {
          "output_type": "stream",
          "name": "stdout",
          "text": [
            "+-------------+------------+-----------------+----------------+-------+--------------------+----------------+--------------------+----+--------+-------+-----+----------+-----+-------+\n",
            "|COD_MUNICIPIO|NO_MUNICIPIO|COD_MUNICIPIO_RES|NO_MUNICIPIO_RES|   CNES|     ESTABELECIMENTO|COD_PROCEDIMENTO|     NO_PROCEDIMENTO|SEXO|COD_RACA|RACACOR|IDADE|Quantidade|Valor|ANO_MES|\n",
            "+-------------+------------+-----------------+----------------+-------+--------------------+----------------+--------------------+----+--------+-------+-----+----------+-----+-------+\n",
            "|       250010| AGUA BRANCA|           250010|     AGUA BRANCA|2321742|UNIDADE DE SAUDE ...|       301010030|CONSULTA DE PROFI...|   F|       1| BRANCA|    3|       1.0|  0.0| 201709|\n",
            "|       250010| AGUA BRANCA|           250010|     AGUA BRANCA|2321742|UNIDADE DE SAUDE ...|       301010030|CONSULTA DE PROFI...|   F|       4|AMARELA|    7|       1.0|  0.0| 201705|\n",
            "|       250010| AGUA BRANCA|           250010|     AGUA BRANCA|2321742|UNIDADE DE SAUDE ...|       301010030|CONSULTA DE PROFI...|   M|       1| BRANCA|    6|       1.0|  0.0| 201704|\n",
            "+-------------+------------+-----------------+----------------+-------+--------------------+----------------+--------------------+----+--------+-------+-----+----------+-----+-------+\n",
            "only showing top 3 rows\n",
            "\n"
          ]
        }
      ]
    },
    {
      "cell_type": "code",
      "source": [
        "df_spark.filter(col(\"NO_MUNICIPIO\").contains(\"PESSOA\")).show(3)"
      ],
      "metadata": {
        "colab": {
          "base_uri": "https://localhost:8080/"
        },
        "id": "pmLVCOnyl9JE",
        "outputId": "1e8554de-dbb7-4b26-83f9-da16b3adaa82"
      },
      "execution_count": 29,
      "outputs": [
        {
          "output_type": "stream",
          "name": "stdout",
          "text": [
            "+-------------+------------+-----------------+----------------+-------+--------------------+----------------+--------------------+----+--------+-------+-----+----------+-----+-------+\n",
            "|COD_MUNICIPIO|NO_MUNICIPIO|COD_MUNICIPIO_RES|NO_MUNICIPIO_RES|   CNES|     ESTABELECIMENTO|COD_PROCEDIMENTO|     NO_PROCEDIMENTO|SEXO|COD_RACA|RACACOR|IDADE|Quantidade|Valor|ANO_MES|\n",
            "+-------------+------------+-----------------+----------------+-------+--------------------+----------------+--------------------+----+--------+-------+-----+----------+-----+-------+\n",
            "|       250750| JOAO PESSOA|           110010|   GUAJARA-MIRIM|9132686|  UPA CRUZ DAS ARMAS|       301060096|ATENDIMENTO MEDIC...|   M|       3|  PARDA|    0|       1.0| 11.0| 201812|\n",
            "|       250750| JOAO PESSOA|           110010|   GUAJARA-MIRIM|9132686|  UPA CRUZ DAS ARMAS|       301060118|ACOLHIMENTO COM C...|   M|       3|  PARDA|    0|       1.0| 0.01| 201812|\n",
            "|       250750| JOAO PESSOA|           110020|     PORTO VELHO|6940315|UNIDADE DE PRONTO...|       301060096|ATENDIMENTO MEDIC...|   F|       3|  PARDA|   60|       2.0| 22.0| 201708|\n",
            "+-------------+------------+-----------------+----------------+-------+--------------------+----------------+--------------------+----+--------+-------+-----+----------+-----+-------+\n",
            "only showing top 3 rows\n",
            "\n"
          ]
        }
      ]
    },
    {
      "cell_type": "code",
      "source": [
        "df_spark.filter(df_spark.NO_MUNICIPIO == \"JOAO PESSOA\").show(3)"
      ],
      "metadata": {
        "colab": {
          "base_uri": "https://localhost:8080/"
        },
        "id": "TIwCVZJonqbL",
        "outputId": "08bd1c15-4518-4d73-9f02-59e9b3cfe254"
      },
      "execution_count": 31,
      "outputs": [
        {
          "output_type": "stream",
          "name": "stdout",
          "text": [
            "+-------------+------------+-----------------+----------------+-------+--------------------+----------------+--------------------+----+--------+-------+-----+----------+-----+-------+\n",
            "|COD_MUNICIPIO|NO_MUNICIPIO|COD_MUNICIPIO_RES|NO_MUNICIPIO_RES|   CNES|     ESTABELECIMENTO|COD_PROCEDIMENTO|     NO_PROCEDIMENTO|SEXO|COD_RACA|RACACOR|IDADE|Quantidade|Valor|ANO_MES|\n",
            "+-------------+------------+-----------------+----------------+-------+--------------------+----------------+--------------------+----+--------+-------+-----+----------+-----+-------+\n",
            "|       250750| JOAO PESSOA|           110010|   GUAJARA-MIRIM|9132686|  UPA CRUZ DAS ARMAS|       301060096|ATENDIMENTO MEDIC...|   M|       3|  PARDA|    0|       1.0| 11.0| 201812|\n",
            "|       250750| JOAO PESSOA|           110010|   GUAJARA-MIRIM|9132686|  UPA CRUZ DAS ARMAS|       301060118|ACOLHIMENTO COM C...|   M|       3|  PARDA|    0|       1.0| 0.01| 201812|\n",
            "|       250750| JOAO PESSOA|           110020|     PORTO VELHO|6940315|UNIDADE DE PRONTO...|       301060096|ATENDIMENTO MEDIC...|   F|       3|  PARDA|   60|       2.0| 22.0| 201708|\n",
            "+-------------+------------+-----------------+----------------+-------+--------------------+----------------+--------------------+----+--------+-------+-----+----------+-----+-------+\n",
            "only showing top 3 rows\n",
            "\n"
          ]
        }
      ]
    },
    {
      "cell_type": "code",
      "source": [
        "df_spark.filter((df_spark.RACACOR == 'BRANCA') & (df_spark.NO_MUNICIPIO == 'JOAO PESSOA')).show(5) "
      ],
      "metadata": {
        "colab": {
          "base_uri": "https://localhost:8080/"
        },
        "id": "q7cPN0P5i8Lm",
        "outputId": "566693cb-a569-4f3f-f1e7-3a101f21fd97"
      },
      "execution_count": 36,
      "outputs": [
        {
          "output_type": "stream",
          "name": "stdout",
          "text": [
            "+-------------+------------+-----------------+----------------+-------+--------------------+----------------+--------------------+----+--------+-------+-----+----------+-----+-------+\n",
            "|COD_MUNICIPIO|NO_MUNICIPIO|COD_MUNICIPIO_RES|NO_MUNICIPIO_RES|   CNES|     ESTABELECIMENTO|COD_PROCEDIMENTO|     NO_PROCEDIMENTO|SEXO|COD_RACA|RACACOR|IDADE|Quantidade|Valor|ANO_MES|\n",
            "+-------------+------------+-----------------+----------------+-------+--------------------+----------------+--------------------+----+--------+-------+-----+----------+-----+-------+\n",
            "|       250750| JOAO PESSOA|           140010|       BOA VISTA|7561792|UNIDADE DE PRONTO...|       301010072|CONSULTA MEDICA E...|   F|       1| BRANCA|   23|       1.0| 10.0| 201701|\n",
            "|       250750| JOAO PESSOA|           150790|           SOURE|2399644|MATERNIDADE CANDI...|       301010072|CONSULTA MEDICA E...|   F|       1| BRANCA|    0|       1.0| 10.0| 201908|\n",
            "|       250750| JOAO PESSOA|           210805|   PAULINO NEVES|2399717|COMPLEXO DE DOENC...|       301010048|CONSULTA DE PROFI...|   M|       1| BRANCA|   22|       1.0|  6.3| 201703|\n",
            "|       250750| JOAO PESSOA|           210805|   PAULINO NEVES|2399717|COMPLEXO DE DOENC...|       301010048|CONSULTA DE PROFI...|   M|       1| BRANCA|   22|       1.0|  6.3| 201705|\n",
            "|       250750| JOAO PESSOA|           210805|   PAULINO NEVES|2399717|COMPLEXO DE DOENC...|       301010048|CONSULTA DE PROFI...|   M|       1| BRANCA|   22|       1.0|  6.3| 201706|\n",
            "+-------------+------------+-----------------+----------------+-------+--------------------+----------------+--------------------+----+--------+-------+-----+----------+-----+-------+\n",
            "only showing top 5 rows\n",
            "\n"
          ]
        }
      ]
    },
    {
      "cell_type": "code",
      "source": [
        ""
      ],
      "metadata": {
        "id": "psg2cLqsgxAM"
      },
      "execution_count": null,
      "outputs": []
    }
  ]
}